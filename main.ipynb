{
  "nbformat": 4,
  "nbformat_minor": 0,
  "metadata": {
    "colab": {
      "provenance": []
    },
    "kernelspec": {
      "name": "python3",
      "display_name": "Python 3"
    },
    "language_info": {
      "name": "python"
    }
  },
  "cells": [
    {
      "cell_type": "code",
      "execution_count": null,
      "metadata": {
        "id": "SJ6bzxVAeoyA"
      },
      "outputs": [],
      "source": [
        "import numpy as np\n",
        "from PIL import Image\n",
        "import tensorflow as tf\n",
        "from fastapi import FastAPI, File, UploadFile\n",
        "from fastapi.middleware.cors import CORSMiddleware\n",
        "import gc\n",
        "import uvicorn\n",
        "from pyngrok import ngrok\n",
        "\n",
        "# Initialize FastAPI app\n",
        "app = FastAPI()\n",
        "\n",
        "# Enable CORS for frontend requests\n",
        "app.add_middleware(\n",
        "    CORSMiddleware,\n",
        "    allow_origins=[\"*\"],\n",
        "    allow_credentials=True,\n",
        "    allow_methods=[\"*\"],\n",
        "    allow_headers=[\"*\"],\n",
        ")\n",
        "\n",
        "# ✅ Load TFLite model **only once** at startup\n",
        "interpreter = None\n",
        "input_details = None\n",
        "output_details = None\n",
        "\n",
        "@app.on_event(\"startup\")\n",
        "def load_tflite_model():\n",
        "    global interpreter, input_details, output_details\n",
        "    interpreter = tf.lite.Interpreter(model_path=\"model.tflite\")\n",
        "    interpreter.allocate_tensors()\n",
        "    input_details = interpreter.get_input_details()\n",
        "    output_details = interpreter.get_output_details()\n",
        "\n",
        "brain_tumor_labels = [\"glioma\", \"meningioma\", \"notumor\", \"pituitary\"]\n",
        "\n",
        "# Preprocess function\n",
        "def preprocess_brain_tumor_image(image):\n",
        "    img = Image.open(image).convert(\"RGB\").resize((299, 299))\n",
        "    img_array = np.asarray(img) / 255.0\n",
        "    img_array = np.expand_dims(img_array, axis=0)\n",
        "    return img_array.astype(np.float32)\n",
        "\n",
        "# Prediction function\n",
        "def predict_brain_tumor_tflite(image):\n",
        "    img_array = preprocess_brain_tumor_image(image)\n",
        "\n",
        "    interpreter.set_tensor(input_details[0]['index'], img_array)\n",
        "    interpreter.invoke()\n",
        "    predictions = interpreter.get_tensor(output_details[0]['index'])\n",
        "\n",
        "    predicted_class = brain_tumor_labels[np.argmax(predictions[0])]\n",
        "    confidence = np.max(predictions[0]) * 100\n",
        "    gc.collect()  # Free up memory\n",
        "    return predicted_class, confidence\n",
        "\n",
        "# FastAPI Endpoint\n",
        "@app.post(\"/predict_brain_tumor/\")\n",
        "async def predict_brain_tumor_endpoint(file: UploadFile = File(...)):\n",
        "    prediction, confidence = predict_brain_tumor_tflite(file.file)\n",
        "    return {\"diagnosis\": prediction, \"confidence\": f\"{confidence:.2f}%\"}\n",
        "\n",
        "# Start FastAPI Server with Ngrok\n",
        "def start_server():\n",
        "    ngrok_tunnel = ngrok.connect(8000)\n",
        "    print(f\"Public URL: {ngrok_tunnel.public_url}\")\n",
        "    uvicorn.run(app, host=\"0.0.0.0\", port=8000)\n",
        "\n",
        "start_server()\n"
      ]
    },
    {
      "cell_type": "code",
      "source": [],
      "metadata": {
        "id": "n2_0f4fPeyvo"
      },
      "execution_count": null,
      "outputs": []
    }
  ]
}